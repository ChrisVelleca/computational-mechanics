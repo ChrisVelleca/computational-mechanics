{
  "cells": [
    {
      "cell_type": "code",
      "execution_count": null,
      "id": "344013d1",
      "metadata": {
        "id": "344013d1",
        "outputId": "3546653a-df75-4bf1-c1c4-69349189d10d"
      },
      "outputs": [
        {
          "name": "stderr",
          "output_type": "stream",
          "text": [
            "[nltk_data] Downloading package punkt to /home/ryan/nltk_data...\n",
            "[nltk_data]   Package punkt is already up-to-date!\n"
          ]
        }
      ],
      "source": [
        "import numpy as np\n",
        "import matplotlib.pyplot as plt\n",
        "plt.style.use('fivethirtyeight')\n",
        "import pandas as pd"
      ]
    },
    {
      "cell_type": "markdown",
      "id": "d446d040",
      "metadata": {
        "id": "d446d040"
      },
      "source": [
        "# HW_01 - Generative AI writing analysis and Monte Carlo research\n",
        "\n",
        "In this assignment, you will generate 500 words using a generative AI prompt and prompt engineering. Then, edit the document to use [active]() phrasing and add your own ideas to the document.\n",
        "\n",
        "**Scenario:** Your goal is to create a short technical report to convince your manager that you should use [Monte Carlo](https://en.wikipedia.org/wiki/Monte_Carlo_method) models in your engineering work.\n",
        "\n",
        "choose your role:\n",
        "- [x] lead engineer\n",
        "- [ ]  junior engineer\n",
        "- [ ] managing engineer\n",
        "\n",
        "choose your company product:\n",
        "- [ ] bicycles\n",
        "- [x] airplane engines\n",
        "- [ ] toothbrushes\n",
        "- [ ] corkscrews\n",
        "\n",
        "**Goal:** Justify the use of Monte Carlo methods in your role to design your product. This could include,\n",
        "\n",
        "- quantifying uncertainty in design\n",
        "- modeling process times\n",
        "- Mechanical strength of design\n",
        "- Fatigue limits of design\n",
        "- changes in heat and mass transfer of devices\n",
        "- account for variables outside the engineering scope of the design"
      ]
    },
    {
      "cell_type": "markdown",
      "id": "87705f35",
      "metadata": {
        "id": "87705f35"
      },
      "source": [
        "## Prompt Input and Output\n",
        "\n",
        "-> _copy-paste your prompts and outputs here_\n",
        "\n",
        "input:\n",
        "Create a short 500 word technical report that would convince your manager that you should use Monte Carlo models in your engineering work. In this scenario you are a lead engineer working for a company that produces airplane engines. Justify the use of Monte Carlo methods in your role to design your product. This could include,\n",
        "quantifying uncertainty in design\n",
        "modeling process times\n",
        "Mechanical strength of design\n",
        "Fatigue limits of design\n",
        "changes in heat and mass transfer of devices\n",
        "account for variables outside the engineering scope of the design Include other talking points you see fit. Please make this more in paragraph from and have these points flow from one to the next\n",
        "\n",
        "Outpu:\n",
        "### Justification for Using Monte Carlo Methods in Airplane Engine Design  \n",
        "\n",
        "As a lead engineer in the design and manufacturing of airplane engines, it is imperative that we accurately quantify uncertainties in our engineering models to ensure the reliability, safety, and performance of our products. Traditional deterministic methods often fail to capture the variability in material properties, environmental conditions, and operational stresses that our engines experience. By implementing Monte Carlo simulations, we can enhance our design process by incorporating probabilistic methods that account for these uncertainties, leading to more robust and optimized engine components.  \n",
        "\n",
        "One of the primary advantages of Monte Carlo modeling is its ability to **quantify uncertainty in design**. Airplane engines operate under extreme conditions, including high temperatures, fluctuating pressures, and mechanical stresses. Small variations in material properties or manufacturing tolerances can lead to significant performance differences. Monte Carlo methods allow us to simulate thousands of possible scenarios, providing a statistical distribution of outcomes rather than a single-point estimate. This enables us to assess the probability of failure, optimize safety factors, and improve confidence in our designs.  \n",
        "\n",
        "Furthermore, Monte Carlo simulations are invaluable in **modeling process times** in manufacturing and assembly. Variability in machining tolerances, heat treatments, and supplier part quality can introduce delays and inconsistencies in production. By using these methods, we can predict how fluctuations in process parameters affect production timelines, allowing for better planning, resource allocation, and risk mitigation. This reduces unexpected delays and enhances efficiency across the supply chain.  \n",
        "\n",
        "Another critical application is in determining the **mechanical strength and fatigue limits** of engine components. Engine parts, such as turbine blades and compressor discs, are subjected to cyclic loading that can lead to fatigue failure over time. Traditional deterministic fatigue analysis provides conservative estimates that may either overdesign the component—adding unnecessary weight and cost—or underestimate fatigue life, increasing the risk of failure. Monte Carlo simulations enable us to account for variability in material defects, surface treatments, and loading conditions, giving us a more accurate prediction of fatigue life and optimizing maintenance schedules.  \n",
        "\n",
        "Additionally, Monte Carlo methods can be employed to evaluate **heat and mass transfer variations** within our engine components. Efficient thermal management is crucial to prevent overheating and improve fuel efficiency. Variations in airflow, fuel combustion rates, and cooling efficiencies can significantly impact engine performance. By simulating different thermal scenarios, we can better understand how heat transfer variations influence overall efficiency, leading to improved material selection, cooling strategies, and thermal coatings.  \n",
        "\n",
        "Beyond engineering-specific variables, Monte Carlo methods also allow us to **account for external variables** that influence engine performance, such as fluctuating environmental conditions, fuel quality, and unexpected operational stresses. By incorporating these external factors into our simulations, we ensure that our engines perform reliably across a wide range of real-world conditions, improving both safety and longevity.  \n",
        "\n",
        "Incorporating Monte Carlo methods into our design and analysis processes will provide a more comprehensive understanding of our engines' performance, reduce failure risks, and optimize manufacturing efficiency. Given the complex and high-stakes nature of our industry, adopting probabilistic modeling will ensure we remain at the forefront of innovative and reliable aircraft engine development."
      ]
    },
    {
      "cell_type": "markdown",
      "id": "670e5378",
      "metadata": {
        "id": "670e5378"
      },
      "source": [
        "## Revised document\n",
        "\n",
        "-> _copy-paste the document here, then edit the output to remove passive phrasing and add specific ideas from your own research or experience (try quantifying any phrases such as 'many', 'fewer', 'more important', etc._"
      ]
    },
    {
      "cell_type": "markdown",
      "id": "62eb2b3d",
      "metadata": {
        "id": "62eb2b3d"
      },
      "source": [
        "_run the cell below to get your `tf_idf` functions ready to run_"
      ]
    },
    {
      "cell_type": "code",
      "execution_count": null,
      "id": "02b042fe-3d1f-45bf-a928-75a638e84468",
      "metadata": {
        "scrolled": true,
        "id": "02b042fe-3d1f-45bf-a928-75a638e84468",
        "outputId": "a1858cd3-87b6-4394-e3d6-f303f3faa90f"
      },
      "outputs": [
        {
          "name": "stdout",
          "output_type": "stream",
          "text": [
            "Requirement already satisfied: tf-idf-cosimm in /home/ryan/miniconda3/lib/python3.12/site-packages (0.0.1)\n",
            "Requirement already satisfied: numpy in /home/ryan/miniconda3/lib/python3.12/site-packages (from tf-idf-cosimm) (1.26.4)\n",
            "Requirement already satisfied: pandas in /home/ryan/miniconda3/lib/python3.12/site-packages (from tf-idf-cosimm) (2.2.2)\n",
            "Requirement already satisfied: nltk in /home/ryan/miniconda3/lib/python3.12/site-packages (from tf-idf-cosimm) (3.8.1)\n",
            "Requirement already satisfied: scikit-learn in /home/ryan/miniconda3/lib/python3.12/site-packages (from tf-idf-cosimm) (1.5.0)\n",
            "Requirement already satisfied: click in /home/ryan/miniconda3/lib/python3.12/site-packages (from nltk->tf-idf-cosimm) (8.1.7)\n",
            "Requirement already satisfied: joblib in /home/ryan/miniconda3/lib/python3.12/site-packages (from nltk->tf-idf-cosimm) (1.4.2)\n",
            "Requirement already satisfied: regex>=2021.8.3 in /home/ryan/miniconda3/lib/python3.12/site-packages (from nltk->tf-idf-cosimm) (2024.5.15)\n",
            "Requirement already satisfied: tqdm in /home/ryan/miniconda3/lib/python3.12/site-packages (from nltk->tf-idf-cosimm) (4.66.2)\n",
            "Requirement already satisfied: python-dateutil>=2.8.2 in /home/ryan/miniconda3/lib/python3.12/site-packages (from pandas->tf-idf-cosimm) (2.9.0.post0)\n",
            "Requirement already satisfied: pytz>=2020.1 in /home/ryan/miniconda3/lib/python3.12/site-packages (from pandas->tf-idf-cosimm) (2024.1)\n",
            "Requirement already satisfied: tzdata>=2022.7 in /home/ryan/miniconda3/lib/python3.12/site-packages (from pandas->tf-idf-cosimm) (2024.1)\n",
            "Requirement already satisfied: scipy>=1.6.0 in /home/ryan/miniconda3/lib/python3.12/site-packages (from scikit-learn->tf-idf-cosimm) (1.13.1)\n",
            "Requirement already satisfied: threadpoolctl>=3.1.0 in /home/ryan/miniconda3/lib/python3.12/site-packages (from scikit-learn->tf-idf-cosimm) (3.5.0)\n",
            "Requirement already satisfied: six>=1.5 in /home/ryan/miniconda3/lib/python3.12/site-packages (from python-dateutil>=2.8.2->pandas->tf-idf-cosimm) (1.16.0)\n"
          ]
        }
      ],
      "source": [
        "! pip install tf-idf-cosimm==0.0.2"
      ]
    },
    {
      "cell_type": "code",
      "execution_count": null,
      "id": "e5bddc12-e642-4d85-bbc8-11f6f3bf887c",
      "metadata": {
        "id": "e5bddc12-e642-4d85-bbc8-11f6f3bf887c",
        "outputId": "f61741d7-9abd-4ac3-d727-f6b3240a3371"
      },
      "outputs": [
        {
          "name": "stderr",
          "output_type": "stream",
          "text": [
            "[nltk_data] Downloading package punkt to /home/ryan/nltk_data...\n",
            "[nltk_data]   Package punkt is already up-to-date!\n"
          ]
        }
      ],
      "source": [
        "import tf_idf.core as tf_idf"
      ]
    },
    {
      "cell_type": "code",
      "execution_count": null,
      "id": "f0265e28-6f4d-450d-88b5-e4988d8e5390",
      "metadata": {
        "id": "f0265e28-6f4d-450d-88b5-e4988d8e5390",
        "outputId": "33e8d5a3-80d7-4577-a948-b0e32cde1781"
      },
      "outputs": [
        {
          "data": {
            "text/html": [
              "<div>\n",
              "<style scoped>\n",
              "    .dataframe tbody tr th:only-of-type {\n",
              "        vertical-align: middle;\n",
              "    }\n",
              "\n",
              "    .dataframe tbody tr th {\n",
              "        vertical-align: top;\n",
              "    }\n",
              "\n",
              "    .dataframe thead th {\n",
              "        text-align: right;\n",
              "    }\n",
              "</style>\n",
              "<table border=\"1\" class=\"dataframe\">\n",
              "  <thead>\n",
              "    <tr style=\"text-align: right;\">\n",
              "      <th></th>\n",
              "      <th>DOCUMENT</th>\n",
              "      <th>LOWERCASE</th>\n",
              "      <th>CLEANING</th>\n",
              "      <th>TOKENIZATION</th>\n",
              "      <th>STOP-WORDS</th>\n",
              "      <th>STEMMING</th>\n",
              "    </tr>\n",
              "  </thead>\n",
              "  <tbody>\n",
              "    <tr>\n",
              "      <th>0</th>\n",
              "      <td>text from chatGPT</td>\n",
              "      <td>text from chatgpt</td>\n",
              "      <td>text from chatgpt</td>\n",
              "      <td>[text, from, chatgpt]</td>\n",
              "      <td>[text, chatgpt]</td>\n",
              "      <td>[text, chatgpt]</td>\n",
              "    </tr>\n",
              "  </tbody>\n",
              "</table>\n",
              "</div>"
            ],
            "text/plain": [
              "              DOCUMENT            LOWERCASE           CLEANING  \\\n",
              "0   text from chatGPT    text from chatgpt   text from chatgpt   \n",
              "\n",
              "            TOKENIZATION       STOP-WORDS         STEMMING  \n",
              "0  [text, from, chatgpt]  [text, chatgpt]  [text, chatgpt]  "
            ]
          },
          "execution_count": 3,
          "metadata": {},
          "output_type": "execute_result"
        }
      ],
      "source": [
        "AI = '''text from chatGPT'''\n",
        "compare = tf_idf.preprocess_text(AI)"
      ]
    },
    {
      "cell_type": "code",
      "execution_count": null,
      "id": "c34026c8-5d48-4d8f-9b2e-88de15bb041e",
      "metadata": {
        "id": "c34026c8-5d48-4d8f-9b2e-88de15bb041e",
        "outputId": "cc901ea7-6a88-4a94-cb14-494d9359dd9f"
      },
      "outputs": [
        {
          "data": {
            "text/html": [
              "<div>\n",
              "<style scoped>\n",
              "    .dataframe tbody tr th:only-of-type {\n",
              "        vertical-align: middle;\n",
              "    }\n",
              "\n",
              "    .dataframe tbody tr th {\n",
              "        vertical-align: top;\n",
              "    }\n",
              "\n",
              "    .dataframe thead th {\n",
              "        text-align: right;\n",
              "    }\n",
              "</style>\n",
              "<table border=\"1\" class=\"dataframe\">\n",
              "  <thead>\n",
              "    <tr style=\"text-align: right;\">\n",
              "      <th></th>\n",
              "      <th>DOCUMENT</th>\n",
              "      <th>LOWERCASE</th>\n",
              "      <th>CLEANING</th>\n",
              "      <th>TOKENIZATION</th>\n",
              "      <th>STOP-WORDS</th>\n",
              "      <th>STEMMING</th>\n",
              "    </tr>\n",
              "  </thead>\n",
              "  <tbody>\n",
              "    <tr>\n",
              "      <th>0</th>\n",
              "      <td>text from chatGPT</td>\n",
              "      <td>text from chatgpt</td>\n",
              "      <td>text from chatgpt</td>\n",
              "      <td>[text, from, chatgpt]</td>\n",
              "      <td>[text, chatgpt]</td>\n",
              "      <td>[text, chatgpt]</td>\n",
              "    </tr>\n",
              "    <tr>\n",
              "      <th>1</th>\n",
              "      <td>my edited text</td>\n",
              "      <td>my edited text</td>\n",
              "      <td>my edited text</td>\n",
              "      <td>[my, edited, text]</td>\n",
              "      <td>[edited, text]</td>\n",
              "      <td>[edit, text]</td>\n",
              "    </tr>\n",
              "  </tbody>\n",
              "</table>\n",
              "</div>"
            ],
            "text/plain": [
              "              DOCUMENT            LOWERCASE           CLEANING  \\\n",
              "0   text from chatGPT    text from chatgpt   text from chatgpt   \n",
              "1      my edited text       my edited text      my edited text   \n",
              "\n",
              "            TOKENIZATION       STOP-WORDS         STEMMING  \n",
              "0  [text, from, chatgpt]  [text, chatgpt]  [text, chatgpt]  \n",
              "1     [my, edited, text]   [edited, text]     [edit, text]  "
            ]
          },
          "execution_count": 4,
          "metadata": {},
          "output_type": "execute_result"
        }
      ],
      "source": [
        "ME = '''my edited text'''\n",
        "compare = pd.concat([compare, tf_idf.preprocess_text(ME)],\n",
        "                    ignore_index=True)\n",
        "compare"
      ]
    },
    {
      "cell_type": "code",
      "execution_count": null,
      "id": "385e4ea0-c41d-44ae-8db2-e791e7cfe693",
      "metadata": {
        "id": "385e4ea0-c41d-44ae-8db2-e791e7cfe693",
        "outputId": "d62ab6e5-9576-4f5b-d514-4bfc9e86d031"
      },
      "outputs": [
        {
          "data": {
            "text/html": [
              "<div>\n",
              "<style scoped>\n",
              "    .dataframe tbody tr th:only-of-type {\n",
              "        vertical-align: middle;\n",
              "    }\n",
              "\n",
              "    .dataframe tbody tr th {\n",
              "        vertical-align: top;\n",
              "    }\n",
              "\n",
              "    .dataframe thead th {\n",
              "        text-align: right;\n",
              "    }\n",
              "</style>\n",
              "<table border=\"1\" class=\"dataframe\">\n",
              "  <thead>\n",
              "    <tr style=\"text-align: right;\">\n",
              "      <th></th>\n",
              "      <th>DOCUMENT</th>\n",
              "      <th>STEMMING</th>\n",
              "      <th>COSIM</th>\n",
              "    </tr>\n",
              "  </thead>\n",
              "  <tbody>\n",
              "    <tr>\n",
              "      <th>0</th>\n",
              "      <td>text from chatGPT</td>\n",
              "      <td>[text, chatgpt]</td>\n",
              "      <td>1.000000</td>\n",
              "    </tr>\n",
              "    <tr>\n",
              "      <th>1</th>\n",
              "      <td>my edited text</td>\n",
              "      <td>[edit, text]</td>\n",
              "      <td>0.336097</td>\n",
              "    </tr>\n",
              "  </tbody>\n",
              "</table>\n",
              "</div>"
            ],
            "text/plain": [
              "              DOCUMENT         STEMMING     COSIM\n",
              "0   text from chatGPT   [text, chatgpt]  1.000000\n",
              "1      my edited text      [edit, text]  0.336097"
            ]
          },
          "execution_count": 5,
          "metadata": {},
          "output_type": "execute_result"
        }
      ],
      "source": [
        "tf_idf.cosineSimilarity(compare)"
      ]
    },
    {
      "cell_type": "markdown",
      "id": "5ffef0d6",
      "metadata": {
        "id": "5ffef0d6"
      },
      "source": [
        "## Document analysis\n",
        "\n",
        "- Make a list of all the improvements and changes you made to document\n",
        "- use the `tf_idf.cosineSimilarity` function to compare the AI version to your own\n",
        "\n",
        "Write a report on your intellectual property  in the 'revised document'.\n",
        "- How much can you claim as yours?\n",
        "- How many ideas came from AI?\n",
        "- How many ideas came from you?\n",
        "- Is this a _new_ document?\n",
        "- If this work was made by you and another person-not AI-would you need to credit this person as a coauthor?\n",
        "- What else can you discuss about this comparison and this process?"
      ]
    },
    {
      "cell_type": "code",
      "execution_count": null,
      "id": "980502d2",
      "metadata": {
        "id": "980502d2"
      },
      "outputs": [],
      "source": []
    }
  ],
  "metadata": {
    "jupytext": {
      "formats": "md:myst,ipynb"
    },
    "kernelspec": {
      "display_name": "Python 3 (ipykernel)",
      "language": "python",
      "name": "python3"
    },
    "language_info": {
      "codemirror_mode": {
        "name": "ipython",
        "version": 3
      },
      "file_extension": ".py",
      "mimetype": "text/x-python",
      "name": "python",
      "nbconvert_exporter": "python",
      "pygments_lexer": "ipython3",
      "version": "3.10.14"
    },
    "colab": {
      "provenance": []
    }
  },
  "nbformat": 4,
  "nbformat_minor": 5
}